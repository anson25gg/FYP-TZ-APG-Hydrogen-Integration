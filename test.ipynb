{
 "cells": [
  {
   "cell_type": "markdown",
   "id": "8b296a54",
   "metadata": {},
   "source": [
    "<span style=\"font-size:22px; font-weight:700\">Model Import</span>"
   ]
  },
  {
   "cell_type": "code",
   "execution_count": 1,
   "id": "a78797b0",
   "metadata": {},
   "outputs": [
    {
     "name": "stderr",
     "output_type": "stream",
     "text": [
      "WARNING:pypsa.network.io:Importing network from PyPSA version v0.0.0 while current version is v0.35.2. Read the release notes at https://pypsa.readthedocs.io/en/latest/release_notes.html to prepare your network for import.\n",
      "INFO:pypsa.network.io:New version 1.0.2 available! (Current: 0.35.2)\n",
      "INFO:pypsa.network.io:Imported network '' has buses, carriers, generators, global_constraints, links, loads, storage_units\n"
     ]
    }
   ],
   "source": [
    "import pypsa\n",
    "import pandas as pd\n",
    "import numpy as np\n",
    "import matplotlib.pyplot as plt\n",
    "import matplotlib.dates as mdates\n",
    "\n",
    "n = pypsa.Network()\n",
    "n.import_from_netcdf(path=\"../FYP-TZ-APG-Hydrogen-Integration/TZ-APG v1/tz-apg-v1_scenario-regi.nc\")"
   ]
  },
  {
   "cell_type": "code",
   "execution_count": 2,
   "id": "74d116ec",
   "metadata": {},
   "outputs": [],
   "source": [
    "# print(n.buses.index)\n",
    "# print(n.storage_units.index)\n",
    "# print(n.loads.index)\n",
    "# print(n.buses[['carrier']])"
   ]
  },
  {
   "cell_type": "code",
   "execution_count": 3,
   "id": "59f72720",
   "metadata": {},
   "outputs": [],
   "source": [
    "# print(n.carriers)"
   ]
  },
  {
   "cell_type": "code",
   "execution_count": null,
   "id": "540d4277",
   "metadata": {},
   "outputs": [
    {
     "name": "stderr",
     "output_type": "stream",
     "text": [
      "INFO:linopy.model: Solve problem using Highs solver\n",
      "INFO:linopy.io:Writing objective.\n",
      "Writing constraints.: 100%|\u001b[38;2;128;191;255m██████████\u001b[0m| 28/28 [00:04<00:00,  6.41it/s]\n",
      "Writing continuous variables.: 100%|\u001b[38;2;128;191;255m██████████\u001b[0m| 9/9 [00:00<00:00, 20.00it/s]\n",
      "INFO:linopy.io: Writing time: 5.01s\n",
      "INFO:linopy.constants: Optimization successful: \n",
      "Status: ok\n",
      "Termination condition: optimal\n",
      "Solution: 282123 primals, 936836 duals\n",
      "Objective: 6.62e+09\n",
      "Solver model: available\n",
      "Solver message: Optimal\n",
      "\n",
      "INFO:pypsa.optimization.optimize:The shadow-prices of the constraints Generator-fix-p-lower, Generator-fix-p-upper, Generator-ext-p-lower, Generator-ext-p-upper, Generator-fix-p-ramp_limit_up, Generator-fix-p-ramp_limit_down, Generator-ext-p-ramp_limit_up, Generator-ext-p-ramp_limit_down, Link-fix-p-lower, Link-fix-p-upper, Link-ext-p-lower, Link-ext-p-upper, StorageUnit-ext-p_dispatch-lower, StorageUnit-ext-p_dispatch-upper, StorageUnit-ext-p_store-lower, StorageUnit-ext-p_store-upper, StorageUnit-ext-state_of_charge-lower, StorageUnit-ext-state_of_charge-upper, StorageUnit-energy_balance were not assigned to the network.\n"
     ]
    }
   ],
   "source": [
    "# # User inputs\n",
    "# start_year = 2023\n",
    "# start_week = 1\n",
    "# period_length_weeks = 52  # how many weeks to include\n",
    "\n",
    "# # Get all snapshots for the chosen year\n",
    "# year_snapshots = [s for s in n.snapshots if s[0] == start_year]\n",
    "\n",
    "# # Filter snapshots within the chosen period\n",
    "# selected_snapshots = []\n",
    "# for s in year_snapshots:\n",
    "#     timestamp = pd.to_datetime(s[1])\n",
    "#     week_number = timestamp.isocalendar()[1]\n",
    "#     if start_week <= week_number < start_week + period_length_weeks:\n",
    "#         selected_snapshots.append(s)\n",
    "\n",
    "# # Set the filtered snapshots\n",
    "# n.set_snapshots(pd.MultiIndex.from_tuples(selected_snapshots, names=['period', 'snapshot']))\n",
    "\n",
    "n.optimize(n.snapshots[::24])  \n",
    "# n.statistics.supply(comps=[\"Generator\"]).droplevel(0).div(1e3).plot.bar(\n",
    "#     title=\"Generator in GWh\"\n",
    "# )"
   ]
  },
  {
   "cell_type": "code",
   "execution_count": null,
   "id": "473635f0",
   "metadata": {},
   "outputs": [
    {
     "data": {
      "text/html": [
       "<div>\n",
       "<style scoped>\n",
       "    .dataframe tbody tr th:only-of-type {\n",
       "        vertical-align: middle;\n",
       "    }\n",
       "\n",
       "    .dataframe tbody tr th {\n",
       "        vertical-align: top;\n",
       "    }\n",
       "\n",
       "    .dataframe thead th {\n",
       "        text-align: right;\n",
       "    }\n",
       "</style>\n",
       "<table border=\"1\" class=\"dataframe\">\n",
       "  <thead>\n",
       "    <tr style=\"text-align: right;\">\n",
       "      <th></th>\n",
       "      <th></th>\n",
       "      <th>period</th>\n",
       "      <th>2023</th>\n",
       "      <th>2035</th>\n",
       "    </tr>\n",
       "    <tr>\n",
       "      <th>component</th>\n",
       "      <th>carrier</th>\n",
       "      <th>bus_carrier</th>\n",
       "      <th></th>\n",
       "      <th></th>\n",
       "    </tr>\n",
       "  </thead>\n",
       "  <tbody>\n",
       "    <tr>\n",
       "      <th rowspan=\"11\" valign=\"top\">Generator</th>\n",
       "      <th>Backstop</th>\n",
       "      <th>Transmission</th>\n",
       "      <td>NaN</td>\n",
       "      <td>NaN</td>\n",
       "    </tr>\n",
       "    <tr>\n",
       "      <th>Bioenergy</th>\n",
       "      <th>Transmission</th>\n",
       "      <td>NaN</td>\n",
       "      <td>NaN</td>\n",
       "    </tr>\n",
       "    <tr>\n",
       "      <th>Biomass</th>\n",
       "      <th>Transmission</th>\n",
       "      <td>1.169482e+07</td>\n",
       "      <td>1.370538e+07</td>\n",
       "    </tr>\n",
       "    <tr>\n",
       "      <th>Coal</th>\n",
       "      <th>Transmission</th>\n",
       "      <td>1.451064e+08</td>\n",
       "      <td>3.199559e+08</td>\n",
       "    </tr>\n",
       "    <tr>\n",
       "      <th>Gas</th>\n",
       "      <th>Transmission</th>\n",
       "      <td>5.741921e+07</td>\n",
       "      <td>3.267607e+08</td>\n",
       "    </tr>\n",
       "    <tr>\n",
       "      <th>Geothermal</th>\n",
       "      <th>Transmission</th>\n",
       "      <td>1.766454e+07</td>\n",
       "      <td>1.565712e+07</td>\n",
       "    </tr>\n",
       "    <tr>\n",
       "      <th>Hydro</th>\n",
       "      <th>Transmission</th>\n",
       "      <td>2.756998e+08</td>\n",
       "      <td>3.171267e+08</td>\n",
       "    </tr>\n",
       "    <tr>\n",
       "      <th>Offshore Wind</th>\n",
       "      <th>Transmission</th>\n",
       "      <td>9.411772e+06</td>\n",
       "      <td>9.411147e+06</td>\n",
       "    </tr>\n",
       "    <tr>\n",
       "      <th>Oil</th>\n",
       "      <th>Transmission</th>\n",
       "      <td>NaN</td>\n",
       "      <td>1.711706e+04</td>\n",
       "    </tr>\n",
       "    <tr>\n",
       "      <th>Onshore Wind</th>\n",
       "      <th>Transmission</th>\n",
       "      <td>2.782746e+07</td>\n",
       "      <td>2.782501e+07</td>\n",
       "    </tr>\n",
       "    <tr>\n",
       "      <th>Solar</th>\n",
       "      <th>Transmission</th>\n",
       "      <td>1.363495e+07</td>\n",
       "      <td>1.363157e+07</td>\n",
       "    </tr>\n",
       "    <tr>\n",
       "      <th>Link</th>\n",
       "      <th>Transmission</th>\n",
       "      <th>Transmission</th>\n",
       "      <td>-4.009358e+06</td>\n",
       "      <td>-3.913679e+06</td>\n",
       "    </tr>\n",
       "    <tr>\n",
       "      <th>Load</th>\n",
       "      <th>-</th>\n",
       "      <th>Transmission</th>\n",
       "      <td>-5.527006e+08</td>\n",
       "      <td>-1.035270e+09</td>\n",
       "    </tr>\n",
       "    <tr>\n",
       "      <th>StorageUnit</th>\n",
       "      <th>Battery</th>\n",
       "      <th>Transmission</th>\n",
       "      <td>-1.749083e+06</td>\n",
       "      <td>-4.907105e+06</td>\n",
       "    </tr>\n",
       "  </tbody>\n",
       "</table>\n",
       "</div>"
      ],
      "text/plain": [
       "period                                          2023          2035\n",
       "component   carrier       bus_carrier                             \n",
       "Generator   Backstop      Transmission           NaN           NaN\n",
       "            Bioenergy     Transmission           NaN           NaN\n",
       "            Biomass       Transmission  1.169482e+07  1.370538e+07\n",
       "            Coal          Transmission  1.451064e+08  3.199559e+08\n",
       "            Gas           Transmission  5.741921e+07  3.267607e+08\n",
       "            Geothermal    Transmission  1.766454e+07  1.565712e+07\n",
       "            Hydro         Transmission  2.756998e+08  3.171267e+08\n",
       "            Offshore Wind Transmission  9.411772e+06  9.411147e+06\n",
       "            Oil           Transmission           NaN  1.711706e+04\n",
       "            Onshore Wind  Transmission  2.782746e+07  2.782501e+07\n",
       "            Solar         Transmission  1.363495e+07  1.363157e+07\n",
       "Link        Transmission  Transmission -4.009358e+06 -3.913679e+06\n",
       "Load        -             Transmission -5.527006e+08 -1.035270e+09\n",
       "StorageUnit Battery       Transmission -1.749083e+06 -4.907105e+06"
      ]
     },
     "execution_count": 4,
     "metadata": {},
     "output_type": "execute_result"
    }
   ],
   "source": [
    "n.statistics.capex()"
   ]
  },
  {
   "cell_type": "code",
   "execution_count": 6,
   "id": "d6067a20",
   "metadata": {},
   "outputs": [],
   "source": [
    "# # Create a summary DataFrame for generators\n",
    "# gen_summary = pd.DataFrame({\n",
    "#     'carrier': n.generators['carrier'],\n",
    "#     'existing_capacity_MW': n.generators['p_nom'],\n",
    "#     'optimized_capacity_MW': n.generators['p_nom_opt'],\n",
    "# })\n",
    "\n",
    "# # Calculate the added (new) capacity\n",
    "# gen_summary['added_capacity_MW'] = gen_summary['optimized_capacity_MW'] - gen_summary['existing_capacity_MW']\n",
    "\n",
    "# # Display the table\n",
    "# from IPython.display import display\n",
    "# # Show all rows and columns\n",
    "# pd.set_option('display.max_rows', None)\n",
    "# pd.set_option('display.max_columns', None)\n",
    "# pd.set_option('display.width', None)\n",
    "# pd.set_option('display.max_colwidth', None)\n",
    "\n",
    "# # Now display the full table\n",
    "# display(gen_summary)"
   ]
  },
  {
   "cell_type": "code",
   "execution_count": 7,
   "id": "4613673d",
   "metadata": {},
   "outputs": [],
   "source": [
    "# # Get generator supply time series (entire timeframe)\n",
    "# df = n.statistics.supply(comps=[\"Generator\"], aggregate_time=False).droplevel(0).div(1e3)\n",
    "\n",
    "# # Extract timestamps from MultiIndex columns if necessary\n",
    "# if isinstance(df.columns[0], tuple):\n",
    "#     timestamps = [col[1] for col in df.columns]  # second element is the timestamp\n",
    "# else:\n",
    "#     timestamps = df.columns\n",
    "\n",
    "# # Plot\n",
    "# fig, ax = plt.subplots(figsize=(12, 6))\n",
    "# df.T.plot.area(title=\"Generation in GW\", ax=ax, legend=False, linewidth=0)\n",
    "\n",
    "# # Format x-axis labels\n",
    "# num_snapshots = len(timestamps)\n",
    "# step = max(1, num_snapshots // 10)  # show ~10 evenly spaced ticks\n",
    "\n",
    "# def format_timestamp(ts):\n",
    "#     try:\n",
    "#         return ts.strftime(\"%Y/%m/%d, %#I%p\").lower()  # works on Windows\n",
    "#     except ValueError:\n",
    "#         return ts.strftime(\"%Y/%m/%d, %-I%p\").lower()  # fallback for Unix\n",
    "\n",
    "# ax.set_xticks(range(0, num_snapshots, step))\n",
    "# ax.set_xticklabels(\n",
    "#     [format_timestamp(ts) for ts in timestamps[::step]],\n",
    "#     rotation=45, ha='right'\n",
    "# )\n",
    "\n",
    "# # Legend\n",
    "# ax.legend(bbox_to_anchor=(1, 0), loc=\"lower left\", title=None, ncol=1)\n",
    "# plt.tight_layout()\n",
    "# plt.show()\n"
   ]
  },
  {
   "cell_type": "code",
   "execution_count": 8,
   "id": "c7e9f43d",
   "metadata": {},
   "outputs": [
    {
     "data": {
      "image/png": "[encoded data removed]",
      "text/plain": [
       "<Figure size 640x480 with 1 Axes>"
      ]
     },
     "metadata": {},
     "output_type": "display_data"
    }
   ],
   "source": [
    "fig, ax = plt.subplots()\n",
    "\n",
    "# Group by carrier and sum across components/bus_carrier\n",
    "n.statistics.energy_balance().groupby(\"carrier\").sum().T.plot(\n",
    "    kind=\"bar\", stacked=True, ax=ax, title=\"Energy Balance\"\n",
    ")\n",
    "\n",
    "# Adjust legend\n",
    "ax.legend(bbox_to_anchor=(1, 0), loc=\"lower left\", title=None, ncol=1)\n",
    "plt.show()"
   ]
  }
 ],
 "metadata": {
  "kernelspec": {
   "display_name": "venvlocal (3.13.7)",
   "language": "python",
   "name": "python3"
  },
  "language_info": {
   "codemirror_mode": {
    "name": "ipython",
    "version": 3
   },
   "file_extension": ".py",
   "mimetype": "text/x-python",
   "name": "python",
   "nbconvert_exporter": "python",
   "pygments_lexer": "ipython3",
   "version": "3.13.7"
  }
 },
 "nbformat": 4,
 "nbformat_minor": 5
}
