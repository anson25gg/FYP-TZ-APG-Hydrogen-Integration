{
 "cells": [
  {
   "cell_type": "code",
   "execution_count": 48,
   "id": "05895d64",
   "metadata": {},
   "outputs": [
    {
     "name": "stderr",
     "output_type": "stream",
     "text": [
      "WARNING:pypsa.network.io:Importing network from PyPSA version v0.0.0 while current version is v0.35.2. Read the release notes at https://pypsa.readthedocs.io/en/latest/release_notes.html to prepare your network for import.\n",
      "INFO:pypsa.network.io:New version 1.0.2 available! (Current: 0.35.2)\n",
      "INFO:pypsa.network.io:Imported network '' has buses, carriers, generators, global_constraints, links, loads, storage_units\n"
     ]
    }
   ],
   "source": [
    "import pypsa\n",
    "import pandas as pd\n",
    "import numpy as np\n",
    "import matplotlib.pyplot as plt\n",
    "import matplotlib.dates as mdates\n",
    "\n",
    "n = pypsa.Network()\n",
    "n.import_from_netcdf(path=\"../FYP-TZ-APG-Hydrogen-Integration/TZ-APG v1/tz-apg-v1_scenario-bau.nc\")"
   ]
  },
  {
   "cell_type": "code",
   "execution_count": 49,
   "id": "c88fc138",
   "metadata": {},
   "outputs": [],
   "source": [
    "n.add(\"Carrier\",\n",
    "          name=\"Hydrogen\",\n",
    "          co2_emissions=0.0,     \n",
    "          color=\"skyblue\")\n",
    "\n",
    "n.add(\"Bus\",\n",
    "      name=\"BRN_H2\",\n",
    "      carrier=\"Hydrogen\",\n",
    "      v_nom=1.0)\n",
    "\n",
    "n.add(\"Link\",\n",
    "      name=\"Electrolyzer_BRN\",\n",
    "      bus0=\"BRNXX\",\n",
    "      bus1=\"BRN_H2\",\n",
    "      efficiency=0.7,\n",
    "      p_nom=50,\n",
    "      carrier=\"Hydrogen\")\n",
    "\n",
    "n.add(\"Load\",\n",
    "      name=\"HydrogenDemand_BRN\",\n",
    "      bus=\"BRN_H2\",\n",
    "      carrier=\"Hydrogen\")\n",
    "\n",
    "n.loads_t.p_set[\"HydrogenDemand_BRN\"] = 20.0"
   ]
  },
  {
   "cell_type": "code",
   "execution_count": 50,
   "id": "7df13132",
   "metadata": {},
   "outputs": [
    {
     "name": "stderr",
     "output_type": "stream",
     "text": [
      "INFO:linopy.model: Solve problem using Highs solver\n",
      "INFO:linopy.io:Writing objective.\n",
      "Writing constraints.: 100%|\u001b[38;2;128;191;255m██████████\u001b[0m| 24/24 [00:03<00:00,  6.01it/s]\n",
      "Writing continuous variables.: 100%|\u001b[38;2;128;191;255m██████████\u001b[0m| 7/7 [00:00<00:00, 16.03it/s]\n",
      "INFO:linopy.io: Writing time: 4.62s\n",
      "INFO:linopy.constants: Optimization successful: \n",
      "Status: ok\n",
      "Termination condition: optimal\n",
      "Solution: 282431 primals, 937875 duals\n",
      "Objective: 7.99e+09\n",
      "Solver model: available\n",
      "Solver message: Optimal\n",
      "\n",
      "INFO:pypsa.optimization.optimize:The shadow-prices of the constraints Generator-fix-p-lower, Generator-fix-p-upper, Generator-ext-p-lower, Generator-ext-p-upper, Generator-fix-p-ramp_limit_up, Generator-fix-p-ramp_limit_down, Generator-ext-p-ramp_limit_up, Generator-ext-p-ramp_limit_down, Link-fix-p-lower, Link-fix-p-upper, StorageUnit-ext-p_dispatch-lower, StorageUnit-ext-p_dispatch-upper, StorageUnit-ext-p_store-lower, StorageUnit-ext-p_store-upper, StorageUnit-ext-state_of_charge-lower, StorageUnit-ext-state_of_charge-upper, StorageUnit-energy_balance were not assigned to the network.\n"
     ]
    },
    {
     "data": {
      "text/plain": [
       "('ok', 'optimal')"
      ]
     },
     "execution_count": 50,
     "metadata": {},
     "output_type": "execute_result"
    }
   ],
   "source": [
    "n.optimize(n.snapshots[::24])"
   ]
  },
  {
   "cell_type": "code",
   "execution_count": 53,
   "id": "2f81e375",
   "metadata": {},
   "outputs": [
    {
     "data": {
      "text/plain": [
       "(<Figure size 411.111x400 with 1 Axes>,\n",
       " <Axes: xlabel='Installed Capacity [MW]', ylabel='carrier'>,\n",
       " <seaborn.axisgrid.FacetGrid at 0x1e30ab5a490>)"
      ]
     },
     "execution_count": 53,
     "metadata": {},
     "output_type": "execute_result"
    },
    {
     "data": {
      "image/png": "[encoded data removed]",
      "text/plain": [
       "<Figure size 411.111x400 with 1 Axes>"
      ]
     },
     "metadata": {},
     "output_type": "display_data"
    }
   ],
   "source": [
    "n.statistics.installed_capacity.plot()"
   ]
  },
  {
   "cell_type": "code",
   "execution_count": 51,
   "id": "4a2004c4",
   "metadata": {},
   "outputs": [
    {
     "data": {
      "text/html": [
       "<div>\n",
       "<style scoped>\n",
       "    .dataframe tbody tr th:only-of-type {\n",
       "        vertical-align: middle;\n",
       "    }\n",
       "\n",
       "    .dataframe tbody tr th {\n",
       "        vertical-align: top;\n",
       "    }\n",
       "\n",
       "    .dataframe thead th {\n",
       "        text-align: right;\n",
       "    }\n",
       "</style>\n",
       "<table border=\"1\" class=\"dataframe\">\n",
       "  <thead>\n",
       "    <tr style=\"text-align: right;\">\n",
       "      <th></th>\n",
       "      <th></th>\n",
       "      <th>period</th>\n",
       "      <th>2023</th>\n",
       "      <th>2035</th>\n",
       "    </tr>\n",
       "    <tr>\n",
       "      <th>component</th>\n",
       "      <th>carrier</th>\n",
       "      <th>bus_carrier</th>\n",
       "      <th></th>\n",
       "      <th></th>\n",
       "    </tr>\n",
       "  </thead>\n",
       "  <tbody>\n",
       "    <tr>\n",
       "      <th rowspan=\"11\" valign=\"top\">Generator</th>\n",
       "      <th>Backstop</th>\n",
       "      <th>Transmission</th>\n",
       "      <td>NaN</td>\n",
       "      <td>NaN</td>\n",
       "    </tr>\n",
       "    <tr>\n",
       "      <th>Bioenergy</th>\n",
       "      <th>Transmission</th>\n",
       "      <td>NaN</td>\n",
       "      <td>NaN</td>\n",
       "    </tr>\n",
       "    <tr>\n",
       "      <th>Biomass</th>\n",
       "      <th>Transmission</th>\n",
       "      <td>9.024685e+06</td>\n",
       "      <td>1.201157e+07</td>\n",
       "    </tr>\n",
       "    <tr>\n",
       "      <th>Coal</th>\n",
       "      <th>Transmission</th>\n",
       "      <td>1.578666e+08</td>\n",
       "      <td>3.188003e+08</td>\n",
       "    </tr>\n",
       "    <tr>\n",
       "      <th>Gas</th>\n",
       "      <th>Transmission</th>\n",
       "      <td>6.890628e+07</td>\n",
       "      <td>3.441565e+08</td>\n",
       "    </tr>\n",
       "    <tr>\n",
       "      <th>Geothermal</th>\n",
       "      <th>Transmission</th>\n",
       "      <td>1.766454e+07</td>\n",
       "      <td>1.509516e+07</td>\n",
       "    </tr>\n",
       "    <tr>\n",
       "      <th>Hydro</th>\n",
       "      <th>Transmission</th>\n",
       "      <td>2.537427e+08</td>\n",
       "      <td>3.091608e+08</td>\n",
       "    </tr>\n",
       "    <tr>\n",
       "      <th>Offshore Wind</th>\n",
       "      <th>Transmission</th>\n",
       "      <td>9.411772e+06</td>\n",
       "      <td>9.411147e+06</td>\n",
       "    </tr>\n",
       "    <tr>\n",
       "      <th>Oil</th>\n",
       "      <th>Transmission</th>\n",
       "      <td>NaN</td>\n",
       "      <td>1.631092e+04</td>\n",
       "    </tr>\n",
       "    <tr>\n",
       "      <th>Onshore Wind</th>\n",
       "      <th>Transmission</th>\n",
       "      <td>2.778390e+07</td>\n",
       "      <td>2.770336e+07</td>\n",
       "    </tr>\n",
       "    <tr>\n",
       "      <th>Solar</th>\n",
       "      <th>Transmission</th>\n",
       "      <td>1.362401e+07</td>\n",
       "      <td>1.360622e+07</td>\n",
       "    </tr>\n",
       "    <tr>\n",
       "      <th rowspan=\"3\" valign=\"top\">Link</th>\n",
       "      <th rowspan=\"2\" valign=\"top\">Hydrogen</th>\n",
       "      <th>Hydrogen</th>\n",
       "      <td>3.660000e+03</td>\n",
       "      <td>3.640000e+03</td>\n",
       "    </tr>\n",
       "    <tr>\n",
       "      <th>Transmission</th>\n",
       "      <td>-5.228571e+03</td>\n",
       "      <td>-5.200000e+03</td>\n",
       "    </tr>\n",
       "    <tr>\n",
       "      <th>Transmission</th>\n",
       "      <th>Transmission</th>\n",
       "      <td>-2.817750e+06</td>\n",
       "      <td>-2.397040e+06</td>\n",
       "    </tr>\n",
       "    <tr>\n",
       "      <th rowspan=\"2\" valign=\"top\">Load</th>\n",
       "      <th>-</th>\n",
       "      <th>Transmission</th>\n",
       "      <td>-5.527006e+08</td>\n",
       "      <td>-1.035270e+09</td>\n",
       "    </tr>\n",
       "    <tr>\n",
       "      <th>Hydrogen</th>\n",
       "      <th>Hydrogen</th>\n",
       "      <td>-3.660000e+03</td>\n",
       "      <td>-3.640000e+03</td>\n",
       "    </tr>\n",
       "    <tr>\n",
       "      <th>StorageUnit</th>\n",
       "      <th>Battery</th>\n",
       "      <th>Transmission</th>\n",
       "      <td>-2.500994e+06</td>\n",
       "      <td>-1.228927e+07</td>\n",
       "    </tr>\n",
       "  </tbody>\n",
       "</table>\n",
       "</div>"
      ],
      "text/plain": [
       "period                                          2023          2035\n",
       "component   carrier       bus_carrier                             \n",
       "Generator   Backstop      Transmission           NaN           NaN\n",
       "            Bioenergy     Transmission           NaN           NaN\n",
       "            Biomass       Transmission  9.024685e+06  1.201157e+07\n",
       "            Coal          Transmission  1.578666e+08  3.188003e+08\n",
       "            Gas           Transmission  6.890628e+07  3.441565e+08\n",
       "            Geothermal    Transmission  1.766454e+07  1.509516e+07\n",
       "            Hydro         Transmission  2.537427e+08  3.091608e+08\n",
       "            Offshore Wind Transmission  9.411772e+06  9.411147e+06\n",
       "            Oil           Transmission           NaN  1.631092e+04\n",
       "            Onshore Wind  Transmission  2.778390e+07  2.770336e+07\n",
       "            Solar         Transmission  1.362401e+07  1.360622e+07\n",
       "Link        Hydrogen      Hydrogen      3.660000e+03  3.640000e+03\n",
       "                          Transmission -5.228571e+03 -5.200000e+03\n",
       "            Transmission  Transmission -2.817750e+06 -2.397040e+06\n",
       "Load        -             Transmission -5.527006e+08 -1.035270e+09\n",
       "            Hydrogen      Hydrogen     -3.660000e+03 -3.640000e+03\n",
       "StorageUnit Battery       Transmission -2.500994e+06 -1.228927e+07"
      ]
     },
     "execution_count": 51,
     "metadata": {},
     "output_type": "execute_result"
    }
   ],
   "source": [
    "n.statistics.energy_balance()"
   ]
  },
  {
   "cell_type": "code",
   "execution_count": null,
   "id": "1ac4dab1",
   "metadata": {},
   "outputs": [
    {
     "data": {
      "image/png": "[encoded data removed]",
      "text/plain": [
       "<Figure size 640x480 with 1 Axes>"
      ]
     },
     "metadata": {},
     "output_type": "display_data"
    }
   ],
   "source": [
    "fig, ax = plt.subplots()\n",
    "\n",
    "# Group by carrier and sum across components/bus_carrier\n",
    "n.statistics.energy_balance().groupby(\"carrier\").sum().T.plot(\n",
    "    kind=\"bar\", stacked=True, ax=ax, title=\"Energy Balance\"\n",
    ")\n",
    "\n",
    "# Adjust legend\n",
    "ax.legend(bbox_to_anchor=(1, 0), loc=\"lower left\", title=None, ncol=1)\n",
    "plt.show()"
   ]
  }
 ],
 "metadata": {
  "kernelspec": {
   "display_name": "Python 3",
   "language": "python",
   "name": "python3"
  },
  "language_info": {
   "codemirror_mode": {
    "name": "ipython",
    "version": 3
   },
   "file_extension": ".py",
   "mimetype": "text/x-python",
   "name": "python",
   "nbconvert_exporter": "python",
   "pygments_lexer": "ipython3",
   "version": "3.13.7"
  }
 },
 "nbformat": 4,
 "nbformat_minor": 5
}
